{
  "nbformat": 4,
  "nbformat_minor": 0,
  "metadata": {
    "colab": {
      "provenance": [],
      "authorship_tag": "ABX9TyOr2ho0Qs9PC3ZGD7Wtffxl",
      "include_colab_link": true
    },
    "kernelspec": {
      "name": "python3",
      "display_name": "Python 3"
    },
    "language_info": {
      "name": "python"
    }
  },
  "cells": [
    {
      "cell_type": "markdown",
      "metadata": {
        "id": "view-in-github",
        "colab_type": "text"
      },
      "source": [
        "<a href=\"https://colab.research.google.com/github/MissoumYoucef/LangChain/blob/main/ATS/ATS.ipynb\" target=\"_parent\"><img src=\"https://colab.research.google.com/assets/colab-badge.svg\" alt=\"Open In Colab\"/></a>"
      ]
    },
    {
      "cell_type": "code",
      "source": [
        "from dotenv import load_dotenv\n",
        "load_dotenv()\n",
        "import base64\n",
        "import streamlit as st\n",
        "import os\n",
        "import io\n",
        "from PIL import Image\n",
        "import pdf2image\n",
        "import google.generativeai as genai"
      ],
      "metadata": {
        "id": "-GuyLgFCujmW"
      },
      "execution_count": null,
      "outputs": []
    },
    {
      "cell_type": "markdown",
      "source": [],
      "metadata": {
        "id": "ByJQbRVhvQZV"
      }
    },
    {
      "cell_type": "code",
      "source": [
        "genai.configure(api_key=os.getenv(\"GOOGLE_API_KEY\"))"
      ],
      "metadata": {
        "id": "AzrS1vbhulQ-"
      },
      "execution_count": null,
      "outputs": []
    },
    {
      "cell_type": "code",
      "source": [
        "# To get Model Response\n",
        "def get_gemini_response(input,pdf_cotent,prompt):\n",
        "    model=genai.GenerativeModel('gemini-pro-vision')\n",
        "    response=model.generate_content([input,pdf_content[0],prompt])\n",
        "    return response.text"
      ],
      "metadata": {
        "id": "BxUGzfXaupCL"
      },
      "execution_count": 1,
      "outputs": []
    },
    {
      "cell_type": "markdown",
      "source": [
        "The generative AI model (in this case, genai.GenerativeModel('gemini-pro-vision')) likely requires the input data in a specific format.\n",
        "The API documentation probably specifies that images should be provided as Base64-encoded strings under a certain key (e.g., \"data\"), along with other metadata like \"mime_type\""
      ],
      "metadata": {
        "id": "zE1gZo8Yu8iD"
      }
    },
    {
      "cell_type": "code",
      "source": [
        "def input_pdf_setup(uploaded_file):\n",
        "    if uploaded_file is not None:\n",
        "        ## Convert the PDF to image\n",
        "        images=pdf2image.convert_from_bytes(uploaded_file.read())\n",
        "\n",
        "        first_page=images[0]\n",
        "\n",
        "        # Convert to bytes\n",
        "        img_byte_arr = io.BytesIO()\n",
        "        first_page.save(img_byte_arr, format='JPEG')\n",
        "        img_byte_arr = img_byte_arr.getvalue()\n",
        "\n",
        "        pdf_parts = [\n",
        "            {\n",
        "                \"mime_type\": \"image/jpeg\",\n",
        "                \"data\": base64.b64encode(img_byte_arr).decode()  # Convert to base64\n",
        "            }\n",
        "        ]\n",
        "        return pdf_parts\n",
        "    else:\n",
        "        raise FileNotFoundError(\"No file uploaded\")"
      ],
      "metadata": {
        "id": "n29jQH3Qux8D"
      },
      "execution_count": null,
      "outputs": []
    },
    {
      "cell_type": "code",
      "execution_count": null,
      "metadata": {
        "id": "JhsafZ_Lue2e"
      },
      "outputs": [],
      "source": [
        "## Streamlit App( python web)\n",
        "\n",
        "st.set_page_config(page_title=\"ATS Resume EXpert\")\n",
        "st.header(\"ATS Tracking System\")\n",
        "input_text=st.text_area(\"Job Description: \",key=\"input\")\n",
        "uploaded_file=st.file_uploader(\"Upload your resume(PDF)...\",type=[\"pdf\"])\n",
        "\n",
        "\n",
        "if uploaded_file is not None:\n",
        "    st.write(\"PDF Uploaded Successfully\")\n",
        "\n",
        "\n",
        "submit1 = st.button(\"Tell Me About the Resume\")\n",
        "\n",
        "#submit2 = st.button(\"How Can I Improvise my Skills\")\n",
        "\n",
        "submit3 = st.button(\"Percentage match\")\n",
        "\n",
        "input_prompt1 = \"\"\"\n",
        " You are an experienced Technical Human Resource Manager,your task is to review the provided resume against the job description.\n",
        "  Please share your professional evaluation on whether the candidate's profile aligns with the role.\n",
        " Highlight the strengths and weaknesses of the applicant in relation to the specified job requirements.\n",
        "\"\"\"\n",
        "\n",
        "input_prompt3 = \"\"\"\n",
        "You are an skilled ATS (Applicant Tracking System) scanner with a deep understanding of data science and ATS functionality,\n",
        "your task is to evaluate the resume against the provided job description. give me the percentage of match if the resume matches\n",
        "the job description. First the output should come as percentage and then keywords missing and last final thoughts.\n",
        "\"\"\"\n",
        "\n",
        "if submit1:\n",
        "    if uploaded_file is not None:\n",
        "        pdf_content=input_pdf_setup(uploaded_file)\n",
        "        response=get_gemini_response(input_prompt1,pdf_content,input_text)\n",
        "        st.subheader(\"The Repsonse is\")\n",
        "        st.write(response)\n",
        "    else:\n",
        "        st.write(\"Please uplaod the resume\")\n",
        "\n",
        "elif submit3:\n",
        "    if uploaded_file is not None:\n",
        "        pdf_content=input_pdf_setup(uploaded_file)\n",
        "        response=get_gemini_response(input_prompt3,pdf_content,input_text)\n",
        "        st.subheader(\"The Repsonse is\")\n",
        "        st.write(response)\n",
        "    else:\n",
        "        st.write(\"Please uplaod the resume\")\n"
      ]
    }
  ]
}